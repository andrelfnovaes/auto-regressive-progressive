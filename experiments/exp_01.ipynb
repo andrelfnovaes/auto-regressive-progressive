{
 "cells": [
  {
   "cell_type": "code",
   "execution_count": 1,
   "id": "e1b906a1",
   "metadata": {},
   "outputs": [],
   "source": [
    "import sys\n",
    "sys.path.append('../src')\n",
    "\n",
    "from time_series import (\n",
    "    load_data\n",
    ")\n"
   ]
  },
  {
   "cell_type": "code",
   "execution_count": null,
   "id": "fd8ab7ec",
   "metadata": {},
   "outputs": [],
   "source": [
    "df = load_data('../data/data_original_m6.csv')\n",
    "df.head()"
   ]
  },
  {
   "cell_type": "code",
   "execution_count": null,
   "id": "e09e25c1",
   "metadata": {},
   "outputs": [],
   "source": [
    "import pandas as pd\n",
    "\n",
    "# Load your dataset\n",
    "df = pd.read_csv(\"../data/data_original_m6.csv\", parse_dates=['Date'], index_col='Date')\n",
    "series = df['AAPL']  # Example stock\n",
    "\n",
    "# Generate lagged features\n",
    "def generate_lagged_dataframe(\n",
    "        series: pd.Series,\n",
    "        lags: int) -> pd.DataFrame:\n",
    "    df_lagged = pd.DataFrame({'target': series})\n",
    "    for i in range(1, lags + 1):\n",
    "        df_lagged[f'lag_{i}'] = df_lagged['target'].shift(i)\n",
    "    return df_lagged.dropna().reset_index(drop=True)\n",
    "\n",
    "lags = 3\n",
    "df_lagged = generate_lagged_dataframe(series, lags=lags)"
   ]
  },
  {
   "cell_type": "code",
   "execution_count": null,
   "metadata": {},
   "outputs": [],
   "source": []
  },
  {
   "cell_type": "code",
   "execution_count": null,
   "id": "bc44adbf",
   "metadata": {},
   "outputs": [],
   "source": []
  },
  {
   "cell_type": "code",
   "execution_count": null,
   "id": "593726b2",
   "metadata": {},
   "outputs": [],
   "source": []
  },
  {
   "cell_type": "code",
   "execution_count": null,
   "metadata": {},
   "outputs": [],
   "source": []
  },
  {
   "cell_type": "code",
   "execution_count": null,
   "id": "18fceb53",
   "metadata": {},
   "outputs": [],
   "source": []
  },
  {
   "cell_type": "code",
   "execution_count": null,
   "metadata": {},
   "outputs": [],
   "source": []
  },
  {
   "cell_type": "code",
   "execution_count": null,
   "metadata": {},
   "outputs": [],
   "source": []
  },
  {
   "cell_type": "code",
   "execution_count": null,
   "metadata": {},
   "outputs": [],
   "source": []
  },
  {
   "cell_type": "code",
   "execution_count": null,
   "metadata": {},
   "outputs": [],
   "source": []
  }
 ],
 "metadata": {
  "kernelspec": {
   "display_name": ".venv",
   "language": "python",
   "name": "python3"
  },
  "language_info": {
   "codemirror_mode": {
    "name": "ipython",
    "version": 3
   },
   "file_extension": ".py",
   "mimetype": "text/x-python",
   "name": "python",
   "nbconvert_exporter": "python",
   "pygments_lexer": "ipython3",
   "version": "3.12.1"
  }
 },
 "nbformat": 4,
 "nbformat_minor": 5
}
