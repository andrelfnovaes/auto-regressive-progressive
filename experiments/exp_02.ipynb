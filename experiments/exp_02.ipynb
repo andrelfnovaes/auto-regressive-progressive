{
 "cells": [
  {
   "cell_type": "code",
   "execution_count": null,
   "id": "e1b906a1",
   "metadata": {},
   "outputs": [],
   "source": [
    "import sys\n",
    "sys.path.append('../src')\n",
    "\n",
    "from time_series import (\n",
    "    load_data,\n",
    "    generate_lags,\n",
    "    fit_model_from_lagged,\n",
    ")\n"
   ]
  },
  {
   "cell_type": "code",
   "execution_count": null,
   "id": "fd8ab7ec",
   "metadata": {},
   "outputs": [],
   "source": [
    "df = load_data('../data/data_original_m6.csv')\n",
    "df.head(3)"
   ]
  },
  {
   "cell_type": "code",
   "execution_count": null,
   "id": "e09e25c1",
   "metadata": {},
   "outputs": [],
   "source": [
    "# Load dataset\n",
    "s = df['ABBV']\n",
    "df = generate_lags(s, past_lags=2, future_lags=2)\n",
    "display(df)\n"
   ]
  },
  {
   "cell_type": "code",
   "execution_count": null,
   "id": "d96f0f9d",
   "metadata": {},
   "outputs": [],
   "source": [
    "# from sklearn.linear_model import LinearRegression\n",
    "\n",
    "lags = df.columns\n",
    "\n",
    "model, mape = fit_model_from_lagged(\n",
    "    df=df,\n",
    "    lags=lags,\n",
    "    model_class=LinearRegression\n",
    ")\n",
    "print(mape)\n"
   ]
  },
  {
   "cell_type": "code",
   "execution_count": null,
   "id": "e33e6ca7",
   "metadata": {},
   "outputs": [],
   "source": []
  },
  {
   "cell_type": "code",
   "execution_count": null,
   "id": "3419ddd6",
   "metadata": {},
   "outputs": [],
   "source": []
  },
  {
   "cell_type": "code",
   "execution_count": null,
   "id": "1a6cfd2b",
   "metadata": {},
   "outputs": [],
   "source": []
  },
  {
   "cell_type": "code",
   "execution_count": null,
   "metadata": {},
   "outputs": [],
   "source": []
  }
 ],
 "metadata": {
  "kernelspec": {
   "display_name": ".venv",
   "language": "python",
   "name": "python3"
  },
  "language_info": {
   "codemirror_mode": {
    "name": "ipython",
    "version": 3
   },
   "file_extension": ".py",
   "mimetype": "text/x-python",
   "name": "python",
   "nbconvert_exporter": "python",
   "pygments_lexer": "ipython3",
   "version": "3.12.1"
  }
 },
 "nbformat": 4,
 "nbformat_minor": 5
}
