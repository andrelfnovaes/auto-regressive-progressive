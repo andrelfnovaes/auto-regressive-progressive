{
 "cells": [
  {
   "cell_type": "code",
   "execution_count": null,
   "id": "e1b906a1",
   "metadata": {},
   "outputs": [],
   "source": [
    "import sys\n",
    "sys.path.append('../src')\n",
    "\n",
    "from time_series import (\n",
    "    load_data,\n",
    "    generate_lags,\n",
    "    generate_lagged_df,\n",
    "    split_df,\n",
    "    fit_model,\n",
    "    predict_evaluate_model,\n",
    ")\n"
   ]
  },
  {
   "cell_type": "code",
   "execution_count": null,
   "id": "fd8ab7ec",
   "metadata": {},
   "outputs": [],
   "source": [
    "df = load_data('../data/data_original_m6.csv')\n",
    "df.head(3)"
   ]
  },
  {
   "cell_type": "code",
   "execution_count": null,
   "id": "e09e25c1",
   "metadata": {},
   "outputs": [],
   "source": [
    "# Load dataset\n",
    "y = df['ABBV']\n",
    "\n",
    "n_lags_future = 2\n",
    "lags_past, lags_future, lags_ar, lags_arp = generate_lags(n_lags_past=2*n_lags_future, n_lags_future=n_lags_future)\n",
    "print(lags_past)\n",
    "print(lags_future)\n",
    "print(lags_ar)\n",
    "print(lags_arp)\n"
   ]
  },
  {
   "cell_type": "code",
   "execution_count": null,
   "id": "0aa7da73",
   "metadata": {},
   "outputs": [],
   "source": [
    "df_lagged = generate_lagged_df(\n",
    "    series=y,\n",
    "    n_lags_past=2*n_lags_future,\n",
    "    n_lags_future=n_lags_future,\n",
    ")\n",
    "\n",
    "display(df_lagged)"
   ]
  },
  {
   "cell_type": "code",
   "execution_count": null,
   "id": "a40e867d",
   "metadata": {},
   "outputs": [],
   "source": [
    "df_train, df_test = split_df(df_lagged, train_test_ratio=0.8)\n",
    "display(df_train)\n",
    "display(df_test.head())\n"
   ]
  },
  {
   "cell_type": "code",
   "execution_count": null,
   "id": "3419ddd6",
   "metadata": {},
   "outputs": [],
   "source": [
    "from sklearn.linear_model import LinearRegression\n",
    "\n",
    "model = fit_model(df_train,\n",
    "                  features=lags_arp,\n",
    "                  model_class=LinearRegression,\n",
    "                  )\n"
   ]
  },
  {
   "cell_type": "code",
   "execution_count": null,
   "id": "c38a8c38",
   "metadata": {},
   "outputs": [],
   "source": [
    "# Predict and evaluate on Training set\n",
    "y_pred_train, mape_train = predict_evaluate_model(model,\n",
    "                                      df_train,\n",
    "                                      features=lags_arp\n",
    "                                      )\n",
    "\n",
    "display(y_pred_train.head())\n",
    "print(f\"MAPE: {mape_train:.4f}\")\n"
   ]
  },
  {
   "cell_type": "code",
   "execution_count": null,
   "metadata": {},
   "outputs": [],
   "source": [
    "# Predict and evaluate on Testing set\n",
    "y_pred_test, mape_test = predict_evaluate_model(model,\n",
    "                                      df_test,\n",
    "                                      features=lags_arp\n",
    "                                      )\n",
    "\n",
    "display(y_pred_test.head())\n",
    "print(f\"MAPE: {mape_test:.4f}\")\n"
   ]
  },
  {
   "cell_type": "code",
   "execution_count": null,
   "id": "059f0e85",
   "metadata": {},
   "outputs": [],
   "source": []
  },
  {
   "cell_type": "code",
   "execution_count": null,
   "id": "909c2333",
   "metadata": {},
   "outputs": [],
   "source": []
  },
  {
   "cell_type": "code",
   "execution_count": null,
   "id": "957e7fc4",
   "metadata": {},
   "outputs": [],
   "source": []
  },
  {
   "cell_type": "code",
   "execution_count": null,
   "id": "e7b6106a",
   "metadata": {},
   "outputs": [],
   "source": []
  },
  {
   "cell_type": "code",
   "execution_count": null,
   "id": "2545aa55",
   "metadata": {},
   "outputs": [],
   "source": []
  },
  {
   "cell_type": "code",
   "execution_count": null,
   "id": "cabb3e2c",
   "metadata": {},
   "outputs": [],
   "source": []
  },
  {
   "cell_type": "code",
   "execution_count": null,
   "metadata": {},
   "outputs": [],
   "source": []
  },
  {
   "cell_type": "code",
   "execution_count": null,
   "metadata": {},
   "outputs": [],
   "source": []
  },
  {
   "cell_type": "code",
   "execution_count": null,
   "id": "1a6cfd2b",
   "metadata": {},
   "outputs": [],
   "source": []
  },
  {
   "cell_type": "code",
   "execution_count": null,
   "metadata": {},
   "outputs": [],
   "source": []
  }
 ],
 "metadata": {
  "kernelspec": {
   "display_name": ".venv",
   "language": "python",
   "name": "python3"
  },
  "language_info": {
   "codemirror_mode": {
    "name": "ipython",
    "version": 3
   },
   "file_extension": ".py",
   "mimetype": "text/x-python",
   "name": "python",
   "nbconvert_exporter": "python",
   "pygments_lexer": "ipython3",
   "version": "3.12.1"
  }
 },
 "nbformat": 4,
 "nbformat_minor": 5
}
