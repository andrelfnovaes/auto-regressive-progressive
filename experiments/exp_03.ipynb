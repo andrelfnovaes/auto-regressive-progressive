{
 "cells": [
  {
   "cell_type": "code",
   "execution_count": null,
   "id": "e1b906a1",
   "metadata": {},
   "outputs": [],
   "source": [
    "import sys\n",
    "sys.path.append('../src')\n",
    "\n",
    "from time_series import (\n",
    "    load_data,\n",
    "    generate_lags,\n",
    "    generate_lagged_df,\n",
    "    split_df,\n",
    "    fit_model,\n",
    "    predict_evaluate_model,\n",
    "    plot_forecast_vs_actual,\n",
    "    plot_train_test_predictions,\n",
    ")\n"
   ]
  },
  {
   "cell_type": "code",
   "execution_count": null,
   "id": "fd8ab7ec",
   "metadata": {},
   "outputs": [],
   "source": [
    "df = load_data('../data/data_original_m6.csv')\n",
    "df.head(3)"
   ]
  },
  {
   "cell_type": "code",
   "execution_count": null,
   "id": "e09e25c1",
   "metadata": {},
   "outputs": [],
   "source": [
    "# Parameters\n",
    "stock = df['ABBV']\n",
    "n_lags_future = 2\n",
    "train_test_ratio = 0.8\n",
    "\n",
    "# Generate lags\n",
    "lags_past, lags_future, lags_ar, lags_arp = generate_lags(n_lags_past=2*n_lags_future,\n",
    "                                                          n_lags_future=n_lags_future\n",
    "                                                          )\n",
    "\n",
    "# Generate lagged df\n",
    "df_lagged = generate_lagged_df(\n",
    "    series=stock,\n",
    "    n_lags_past=2*n_lags_future,\n",
    "    n_lags_future=n_lags_future,\n",
    ")\n",
    "\n",
    "# Split df\n",
    "df_train, df_test = split_df(df_lagged,\n",
    "                             train_test_ratio=train_test_ratio)\n",
    "\n",
    "# # # # # # # # # # # # # # # # # # # # # # # # # # # # # # # # # # # # # # # # # # # #\n",
    "\n",
    "features = lags_ar\n",
    "from sklearn.linear_model import LinearRegression\n",
    "\n",
    "# Fit model\n",
    "model = fit_model(df_train,\n",
    "                  features=features,\n",
    "                  model_class=LinearRegression,\n",
    "                  )\n",
    "\n",
    "# Predict and evaluate on Training set\n",
    "y_pred_train, mape_train = predict_evaluate_model(model,\n",
    "                                      df_train,\n",
    "                                      features=features\n",
    "                                      )\n",
    "\n",
    "# Predict and evaluate on Testing set\n",
    "y_pred_test, mape_test = predict_evaluate_model(model,\n",
    "                                      df_test,\n",
    "                                      features=features\n",
    "                                      )\n"
   ]
  },
  {
   "cell_type": "code",
   "execution_count": null,
   "id": "ef71f762",
   "metadata": {},
   "outputs": [],
   "source": []
  },
  {
   "cell_type": "code",
   "execution_count": null,
   "metadata": {},
   "outputs": [],
   "source": []
  },
  {
   "cell_type": "code",
   "execution_count": null,
   "metadata": {},
   "outputs": [],
   "source": []
  },
  {
   "cell_type": "code",
   "execution_count": null,
   "metadata": {},
   "outputs": [],
   "source": []
  },
  {
   "cell_type": "code",
   "execution_count": null,
   "id": "16116893",
   "metadata": {},
   "outputs": [],
   "source": []
  },
  {
   "cell_type": "code",
   "execution_count": null,
   "id": "13282442",
   "metadata": {},
   "outputs": [],
   "source": []
  },
  {
   "cell_type": "code",
   "execution_count": null,
   "id": "9d1823f4",
   "metadata": {},
   "outputs": [],
   "source": []
  },
  {
   "cell_type": "code",
   "execution_count": null,
   "id": "1a6cfd2b",
   "metadata": {},
   "outputs": [],
   "source": []
  },
  {
   "cell_type": "code",
   "execution_count": null,
   "metadata": {},
   "outputs": [],
   "source": []
  }
 ],
 "metadata": {
  "kernelspec": {
   "display_name": ".venv",
   "language": "python",
   "name": "python3"
  },
  "language_info": {
   "codemirror_mode": {
    "name": "ipython",
    "version": 3
   },
   "file_extension": ".py",
   "mimetype": "text/x-python",
   "name": "python",
   "nbconvert_exporter": "python",
   "pygments_lexer": "ipython3",
   "version": "3.12.1"
  }
 },
 "nbformat": 4,
 "nbformat_minor": 5
}
