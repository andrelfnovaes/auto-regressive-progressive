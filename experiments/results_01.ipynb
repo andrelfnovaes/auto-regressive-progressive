{
 "cells": [
  {
   "cell_type": "code",
   "execution_count": 5,
   "id": "e1b906a1",
   "metadata": {},
   "outputs": [],
   "source": [
    "import sys\n",
    "sys.path.append('../src')\n",
    "\n",
    "from time_series import (\n",
    "\n",
    "    # Load results\n",
    "    load_results_run,\n",
    "\n",
    "    # Analyse results\n",
    "    count_lower_mape,\n",
    ")\n"
   ]
  },
  {
   "cell_type": "code",
   "execution_count": 6,
   "id": "643bd174",
   "metadata": {},
   "outputs": [
    {
     "name": "stdout",
     "output_type": "stream",
     "text": [
      "Loaded 392 experiments from 'LinearRegression_1_4_.pkl'\n"
     ]
    }
   ],
   "source": [
    "# Load results\n",
    "results_run = load_results_run(\n",
    "    folder=\"../results\",\n",
    "    file_name=\"LinearRegression_1_4_.pkl\"\n",
    ")\n"
   ]
  },
  {
   "cell_type": "code",
   "execution_count": 7,
   "id": "dad395e8",
   "metadata": {},
   "outputs": [
    {
     "data": {
      "text/html": [
       "<div>\n",
       "<style scoped>\n",
       "    .dataframe tbody tr th:only-of-type {\n",
       "        vertical-align: middle;\n",
       "    }\n",
       "\n",
       "    .dataframe tbody tr th {\n",
       "        vertical-align: top;\n",
       "    }\n",
       "\n",
       "    .dataframe thead th {\n",
       "        text-align: right;\n",
       "    }\n",
       "</style>\n",
       "<table border=\"1\" class=\"dataframe\">\n",
       "  <thead>\n",
       "    <tr style=\"text-align: right;\">\n",
       "      <th></th>\n",
       "      <th>train_count</th>\n",
       "      <th>train_pct</th>\n",
       "      <th>test_count</th>\n",
       "      <th>test_pct</th>\n",
       "    </tr>\n",
       "    <tr>\n",
       "      <th>n_lags_future</th>\n",
       "      <th></th>\n",
       "      <th></th>\n",
       "      <th></th>\n",
       "      <th></th>\n",
       "    </tr>\n",
       "  </thead>\n",
       "  <tbody>\n",
       "    <tr>\n",
       "      <th>1</th>\n",
       "      <td>98</td>\n",
       "      <td>100.0</td>\n",
       "      <td>50</td>\n",
       "      <td>51.020408</td>\n",
       "    </tr>\n",
       "    <tr>\n",
       "      <th>2</th>\n",
       "      <td>98</td>\n",
       "      <td>100.0</td>\n",
       "      <td>63</td>\n",
       "      <td>64.285714</td>\n",
       "    </tr>\n",
       "    <tr>\n",
       "      <th>3</th>\n",
       "      <td>98</td>\n",
       "      <td>100.0</td>\n",
       "      <td>61</td>\n",
       "      <td>62.244898</td>\n",
       "    </tr>\n",
       "    <tr>\n",
       "      <th>4</th>\n",
       "      <td>98</td>\n",
       "      <td>100.0</td>\n",
       "      <td>58</td>\n",
       "      <td>59.183673</td>\n",
       "    </tr>\n",
       "  </tbody>\n",
       "</table>\n",
       "</div>"
      ],
      "text/plain": [
       "               train_count  train_pct  test_count   test_pct\n",
       "n_lags_future                                               \n",
       "1                       98      100.0          50  51.020408\n",
       "2                       98      100.0          63  64.285714\n",
       "3                       98      100.0          61  62.244898\n",
       "4                       98      100.0          58  59.183673"
      ]
     },
     "metadata": {},
     "output_type": "display_data"
    }
   ],
   "source": [
    "# Count lower MAPE in train and test\n",
    "\n",
    "from sklearn.linear_model import LinearRegression\n",
    "\n",
    "results_count = count_lower_mape(results_run, model_class=LinearRegression)\n",
    "display(results_count)\n"
   ]
  },
  {
   "cell_type": "code",
   "execution_count": null,
   "id": "fb21320d",
   "metadata": {},
   "outputs": [],
   "source": []
  },
  {
   "cell_type": "code",
   "execution_count": null,
   "metadata": {},
   "outputs": [],
   "source": []
  },
  {
   "cell_type": "code",
   "execution_count": null,
   "id": "67934b42",
   "metadata": {},
   "outputs": [],
   "source": []
  },
  {
   "cell_type": "code",
   "execution_count": null,
   "id": "1bebd082",
   "metadata": {},
   "outputs": [],
   "source": []
  },
  {
   "cell_type": "code",
   "execution_count": null,
   "id": "94bcfa72",
   "metadata": {},
   "outputs": [],
   "source": []
  }
 ],
 "metadata": {
  "kernelspec": {
   "display_name": ".venv",
   "language": "python",
   "name": "python3"
  },
  "language_info": {
   "codemirror_mode": {
    "name": "ipython",
    "version": 3
   },
   "file_extension": ".py",
   "mimetype": "text/x-python",
   "name": "python",
   "nbconvert_exporter": "python",
   "pygments_lexer": "ipython3",
   "version": "3.12.1"
  }
 },
 "nbformat": 4,
 "nbformat_minor": 5
}
