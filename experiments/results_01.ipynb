{
 "cells": [
  {
   "cell_type": "code",
   "execution_count": null,
   "id": "e1b906a1",
   "metadata": {},
   "outputs": [],
   "source": [
    "import sys\n",
    "sys.path.append('../src')\n",
    "\n",
    "from time_series import (\n",
    "\n",
    "    # Load results\n",
    "    load_results_run,\n",
    "\n",
    "    # Analyse results\n",
    "    count_lower_mape,\n",
    "    plot_distributions,\n",
    "    hypothesis_tests,\n",
    "    percentual_lower_mape_on_set,\n",
    ")\n"
   ]
  },
  {
   "cell_type": "code",
   "execution_count": null,
   "id": "643bd174",
   "metadata": {},
   "outputs": [],
   "source": [
    "# Parameters\n",
    "model_class = 'LinearRegression'\n",
    "p_first = 1\n",
    "p_last = 30\n",
    "from sklearn.linear_model import LinearRegression\n"
   ]
  },
  {
   "cell_type": "code",
   "execution_count": null,
   "id": "48158dce",
   "metadata": {},
   "outputs": [],
   "source": [
    "# Load results\n",
    "results_run = load_results_run(\n",
    "    folder=\"../results\",\n",
    "    file_name=f\"{model_class}_{p_first}_{p_last}_.pkl\"\n",
    ")\n"
   ]
  },
  {
   "cell_type": "code",
   "execution_count": null,
   "id": "dad395e8",
   "metadata": {},
   "outputs": [],
   "source": [
    "# Count lower MAPE in train and test\n",
    "\n",
    "results_count = count_lower_mape(results_run, model_class=LinearRegression)\n",
    "display(results_count)\n"
   ]
  },
  {
   "cell_type": "code",
   "execution_count": null,
   "id": "ea11bfaf",
   "metadata": {},
   "outputs": [],
   "source": [
    "plot_distributions(\n",
    "    results_run=results_run,\n",
    "    model_class=model_class,\n",
    "    n_lags_future_range=range(1, 1+1),\n",
    "    # n_lags_future_range=range(p_first, p_last+1),\n",
    "    set_type=\"test\"\n",
    ")\n"
   ]
  },
  {
   "cell_type": "code",
   "execution_count": null,
   "metadata": {},
   "outputs": [],
   "source": [
    "# Hypothesis Testing\n",
    "\n",
    "results_ht = hypothesis_tests(\n",
    "    results_run=results_run,\n",
    "    model_class=LinearRegression,\n",
    "    n_lags_future_range=range(p_first, 1+1)\n",
    ")\n"
   ]
  },
  {
   "cell_type": "code",
   "execution_count": null,
   "metadata": {},
   "outputs": [],
   "source": [
    "for p, result in results_ht.items():\n",
    "    print(f\"\\nFor n_lags_future = {p}:\")\n",
    "    print(\"-\" * 70)\n",
    "    print(\">> MAPE_train Hypothesis Tests:\")\n",
    "    display(result[\"MAPE_train\"])\n",
    "    print(\"\\n>> MAPE_test Hypothesis Tests:\")\n",
    "    display(result[\"MAPE_test\"])\n"
   ]
  },
  {
   "cell_type": "code",
   "execution_count": null,
   "id": "1bebd082",
   "metadata": {},
   "outputs": [],
   "source": [
    "# Percentual\n",
    "percentual_lower_mape_on_set(results_count)\n"
   ]
  },
  {
   "cell_type": "code",
   "execution_count": null,
   "id": "94bcfa72",
   "metadata": {},
   "outputs": [],
   "source": []
  },
  {
   "cell_type": "code",
   "execution_count": null,
   "id": "655416be",
   "metadata": {},
   "outputs": [],
   "source": []
  },
  {
   "cell_type": "code",
   "execution_count": null,
   "id": "a445e1d7",
   "metadata": {},
   "outputs": [],
   "source": []
  },
  {
   "cell_type": "code",
   "execution_count": null,
   "id": "02c5fc94",
   "metadata": {},
   "outputs": [],
   "source": []
  }
 ],
 "metadata": {
  "kernelspec": {
   "display_name": ".venv",
   "language": "python",
   "name": "python3"
  },
  "language_info": {
   "codemirror_mode": {
    "name": "ipython",
    "version": 3
   },
   "file_extension": ".py",
   "mimetype": "text/x-python",
   "name": "python",
   "nbconvert_exporter": "python",
   "pygments_lexer": "ipython3",
   "version": "3.12.1"
  }
 },
 "nbformat": 4,
 "nbformat_minor": 5
}
